{
  "nbformat": 4,
  "nbformat_minor": 0,
  "metadata": {
    "colab": {
      "provenance": [],
      "include_colab_link": true
    },
    "kernelspec": {
      "name": "python3",
      "display_name": "Python 3"
    },
    "language_info": {
      "name": "python"
    }
  },
  "cells": [
    {
      "cell_type": "markdown",
      "metadata": {
        "id": "view-in-github",
        "colab_type": "text"
      },
      "source": [
        "<a href=\"https://colab.research.google.com/github/marcoandre1/introduction-colab/blob/main/Introduction_%C3%A0_Colab.ipynb\" target=\"_parent\"><img src=\"https://colab.research.google.com/assets/colab-badge.svg\" alt=\"Open In Colab\"/></a>"
      ]
    },
    {
      "cell_type": "markdown",
      "source": [
        "# Introduction à _Colab_ et la programmation _Python_ 🐍\n",
        "Suivez les instruction de l'enseignant pendant le cours, où en suivant l'enregistrement du cours, afin de vous familiarisez avec la plateforme _Google Colab_.\n",
        "\n",
        "_Google Colab_ est un outil commun pour prototyper et partager des programmes _Python_. L'implémentation est basée sur _Jupyter Notebooks_, qui est également commun dans l'enseignement et l'utilisation _Python_.\n",
        "\n",
        "_Colab_ vous permet de rédiger en coloboration simultanée, ainsi que de tester et partager votre code _Python_ à travers un navigateur web. De plus, les bibliothèques populaires sont déjà installées."
      ],
      "metadata": {
        "id": "gAATYw01B5Wx"
      }
    },
    {
      "cell_type": "markdown",
      "source": [
        "## Fonctionnement de _Google Colab_\n",
        "\n",
        "Type de cellules :\n",
        "- Text\n",
        "- Code\n",
        "\n",
        "### Text\n",
        "Cette cellule est du type \"Text\". Elle permet d'écrire du _Markdown_ pour rédiger et formatter du contenu HTML. Ceci est pratique pour créer des chapitres, décrire les cellules de codes, et organiser un projet.\n",
        "\n",
        "### Code\n",
        "Permet d'écrire et exécuter du code. La sortie du code est présentée en-dessous de la cellule exécutée.\n",
        "\n",
        "_Colab_ permet _Python 3_, _Julia_ et _R_, mais la plateforme _Jupyter_ permet plusieurs languages.\n",
        "\n",
        "## Choix d'accélération\n",
        "Par défaut, un projet _Colab_ s'exécute que sur un CPU sur une machine chez _Google_. Il est possible d'utiliser un GPU aussi. Certains sont gratuits, et d'autres sont payantes. Tout le code dans _Colab_ est effectivement exécuté sur un serveur !"
      ],
      "metadata": {
        "id": "9ufAp_NScGnB"
      }
    },
    {
      "cell_type": "markdown",
      "source": [
        "## 1 : Introduction à Python\n"
      ],
      "metadata": {
        "id": "wOWHfQCzTYkA"
      }
    },
    {
      "cell_type": "code",
      "source": [
        "# import\n",
        "import math\n",
        "import random\n",
        "\n",
        "# print\n",
        "print(math.pi)\n",
        "\n",
        "# variables\n",
        "x = 12\n",
        "y = 55.1234\n",
        "z = x + y\n",
        "\n",
        "print(f\"La somme de {x} plus {y} est égale à {z}\")\n",
        "\n",
        "# typage dynamique\n",
        "# formatage de chaînes de caractères\n",
        "x = 3\n",
        "print(type(x))\n",
        "x = \"ABC\"\n",
        "print(type(x))\n",
        "\n",
        "print(type(z))\n",
        "\n",
        "# listes\n",
        "nombres = [1, 2, 3, 4, 5]\n",
        "print(nombres)\n",
        "print(type(nombres))\n",
        "\n",
        "# Pas forcé d'avoir les mêmes types de données dans une liste\n",
        "# int -> float -> string -> liste\n",
        "valeurs = [1, 3.14, \"ABC\", [0, 1, 2]]\n",
        "print(valeurs)\n",
        "\n",
        "# indexation\n",
        "print(valeurs[0]) # indice 0 : premier élément\n",
        "print(valeurs[-1]) # indice -1 : dernier élément\n",
        "print(valeurs[-2]) # indice -2 : avant dernier\n",
        "\n",
        "# slicing\n",
        "section1 = valeurs[0:2] # -> retourne une NOUVELLE liste contenant le premier et deuxième élément (indice 0 et indice 1)\n",
        "section2 = valeurs[1:] # -> retourne une nouvelle liste de l'indice 1 jusqu'à la fin\n",
        "section3 = valeurs[:3] # -> du début jusqu'à l'indice 2\n",
        "section4 = valeurs[1:-1] # -> du deuxième élément à l'avant dernier\n",
        "print(section1)\n",
        "print(section2)\n",
        "print(section3)\n",
        "print(section4)\n",
        "\n",
        "# boucles\n",
        "\n",
        "# conditions"
      ],
      "metadata": {
        "id": "-ittucp8ddgI",
        "colab": {
          "base_uri": "https://localhost:8080/"
        },
        "outputId": "4f09b30a-8539-4cdd-eee8-176b75651b3d"
      },
      "execution_count": 6,
      "outputs": [
        {
          "output_type": "stream",
          "name": "stdout",
          "text": [
            "3.141592653589793\n",
            "La somme de 12 plus 55.1234 est égale à 67.1234\n",
            "<class 'int'>\n",
            "<class 'str'>\n",
            "<class 'float'>\n",
            "[1, 2, 3, 4, 5]\n",
            "<class 'list'>\n",
            "[1, 3.14, 'ABC', [0, 1, 2]]\n",
            "1\n",
            "[0, 1, 2]\n",
            "ABC\n",
            "[1, 3.14]\n",
            "[3.14, 'ABC', [0, 1, 2]]\n",
            "[1, 3.14, 'ABC']\n",
            "[3.14]\n"
          ]
        }
      ]
    },
    {
      "cell_type": "markdown",
      "source": [
        "**Exercice `import`**\n",
        "\n",
        "a) Importe le module `math` et utilise-le pour calculer la racine carrée de 64.\n",
        "\n",
        "b) Utilise le module `random` pour générer un entier aléatoire entre 1 et 100 inclusivement."
      ],
      "metadata": {
        "id": "-nGkt-XnjNqh"
      }
    },
    {
      "cell_type": "code",
      "source": [
        "# a)\n",
        "\n",
        "# b)"
      ],
      "metadata": {
        "id": "EIkRikJUjXYm"
      },
      "execution_count": 2,
      "outputs": []
    },
    {
      "cell_type": "markdown",
      "source": [
        "**Exercice `variables` et formatage**\n",
        "\n",
        "Crée deux variables : `nom = \"Alice\"` et `age = 25`, puis affiche la phrase :\n",
        "`\"Alice a 25 ans.\"`"
      ],
      "metadata": {
        "id": "RYdqK9vPjX1L"
      }
    },
    {
      "cell_type": "code",
      "source": [],
      "metadata": {
        "id": "7vNLzWqXkC_W"
      },
      "execution_count": 2,
      "outputs": []
    },
    {
      "cell_type": "markdown",
      "source": [
        "**Exercice typage dynamique**\n",
        "\n",
        "Crée une variable `x` avec une valeur entière. Affiche son type avec `type(x)`, puis change sa valeur pour une chaîne de caractères, et réaffiche son type."
      ],
      "metadata": {
        "id": "drr3Mos8t6wS"
      }
    },
    {
      "cell_type": "code",
      "source": [],
      "metadata": {
        "id": "kPl-wFFFuGym"
      },
      "execution_count": 2,
      "outputs": []
    },
    {
      "cell_type": "markdown",
      "source": [
        "**Exercice liste**\n",
        "\n",
        "Crée une liste `fruits = [\"pomme\", \"banane\", \"cerise\"]` et fais les opérations suivantes :\n",
        "- Affiche le premier fruit\n",
        "- Ajoute `\"orange\"` à la liste\n",
        "- Supprime `\"banane\"` (par valeur, par indice, avec `pop(i)`)"
      ],
      "metadata": {
        "id": "m8dWjyVsuVvk"
      }
    },
    {
      "cell_type": "code",
      "source": [],
      "metadata": {
        "id": "v-V8fjNLuyoc"
      },
      "execution_count": 2,
      "outputs": []
    },
    {
      "cell_type": "markdown",
      "source": [
        "**Exercice slicing**\n",
        "Crée une liste et sélectionne"
      ],
      "metadata": {
        "id": "1hL7tBa4oVu1"
      }
    },
    {
      "cell_type": "code",
      "source": [],
      "metadata": {
        "id": "QTPMgv1jofFJ"
      },
      "execution_count": null,
      "outputs": []
    },
    {
      "cell_type": "markdown",
      "source": [
        "**Exercice boucle**\n",
        "\n",
        "a) Affiche les nombres de 1 à 10 avec une boucle `for`.\n",
        "\n",
        "b) Affiche les fruits de la liste précèdente avec une _list comprehension_.\n",
        "\n",
        "c) Créez une liste de nombres de 1 à 10 avec une _list comprehension_ et `range(.)`."
      ],
      "metadata": {
        "id": "2hPHfDMXvLfQ"
      }
    },
    {
      "cell_type": "code",
      "source": [
        "# a)\n",
        "\n",
        "# b)\n",
        "\n",
        "# c)"
      ],
      "metadata": {
        "id": "bHmhCGfHva5m"
      },
      "execution_count": null,
      "outputs": []
    },
    {
      "cell_type": "markdown",
      "source": [
        "**Exercice condition**\n",
        "\n",
        "Demande à l'utilisateur son âge, avec la fonction `input`, puis affiche :\n",
        "- \"Tu es mineur\" si l’âge < 18\n",
        "- \"Tu es majeur\" sinon"
      ],
      "metadata": {
        "id": "fqqnk-3fJW-x"
      }
    },
    {
      "cell_type": "code",
      "source": [],
      "metadata": {
        "id": "Ckb8RNAsJm6h"
      },
      "execution_count": null,
      "outputs": []
    },
    {
      "cell_type": "markdown",
      "source": [
        "## 2: Introduction à Numpy"
      ],
      "metadata": {
        "id": "hZU0VJCrDimH"
      }
    },
    {
      "cell_type": "code",
      "source": [
        "# import de la bibliothèque\n",
        "\n",
        "# ndarray\n",
        "\n",
        "# opérations communes\n",
        "\n",
        "# broadcasting"
      ],
      "metadata": {
        "id": "mmMV3GfXdzLZ"
      },
      "execution_count": null,
      "outputs": []
    },
    {
      "cell_type": "markdown",
      "source": [
        "Crée un tableau NumPy à partir de la liste `[1, 2, 3, 4, 5]`.  \n",
        "Affiche :\n",
        "- le type du tableau,\n",
        "- sa dimension,\n",
        "- sa forme (`shape`)."
      ],
      "metadata": {
        "id": "9gRnFUrMmCSK"
      }
    },
    {
      "cell_type": "code",
      "source": [],
      "metadata": {
        "id": "t8M0UF43mFqH"
      },
      "execution_count": null,
      "outputs": []
    },
    {
      "cell_type": "markdown",
      "source": [
        "Crée une matrice 2x3 contenant les nombres de 1 à 6."
      ],
      "metadata": {
        "id": "vHCglh-kmGNY"
      }
    },
    {
      "cell_type": "code",
      "source": [],
      "metadata": {
        "id": "AUewkgEImJNJ"
      },
      "execution_count": null,
      "outputs": []
    },
    {
      "cell_type": "markdown",
      "source": [
        "Crée deux tableaux 1D : `a = [1, 2, 3]` et `b = [4, 5, 6]`, puis :\n",
        "- additionne-les\n",
        "- multiplie-les élément par élément\n",
        "- calcule leur moyenne (`mean`)"
      ],
      "metadata": {
        "id": "r5xpTnfRmNlX"
      }
    },
    {
      "cell_type": "markdown",
      "source": [
        "## 3 : La vectorization"
      ],
      "metadata": {
        "id": "ZhadWpEADrT0"
      }
    },
    {
      "cell_type": "code",
      "source": [
        "# for versus vectorized"
      ],
      "metadata": {
        "id": "lYR8OSBkffST"
      },
      "execution_count": null,
      "outputs": []
    },
    {
      "cell_type": "markdown",
      "source": [
        "## 4 : Un réseau de neurones simple"
      ],
      "metadata": {
        "id": "zT56GwkVDuu6"
      }
    },
    {
      "cell_type": "markdown",
      "source": [
        "## 5 : PyTorch"
      ],
      "metadata": {
        "id": "jE51LTMvYNca"
      }
    },
    {
      "cell_type": "markdown",
      "source": [
        "## 6 : TensorBoard"
      ],
      "metadata": {
        "id": "rk0kreEseCZr"
      }
    },
    {
      "cell_type": "code",
      "source": [],
      "metadata": {
        "id": "GLbMVnGjJK8a"
      },
      "execution_count": null,
      "outputs": []
    }
  ]
}